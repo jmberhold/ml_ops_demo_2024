{
 "cells": [
  {
   "cell_type": "code",
   "execution_count": null,
   "metadata": {},
   "outputs": [],
   "source": [
    "import os\n",
    "import numpy as np\n",
    "import pickle\n",
    "import pandas as pd\n",
    "import subprocess\n"
   ]
  },
  {
   "cell_type": "code",
   "execution_count": null,
   "metadata": {},
   "outputs": [],
   "source": [
    "# %cd /berhold_sandbox/project_presentation\n",
    "%run berhold_sandbox/project_presentation/data_prep.py \"true\" \"data\"\n",
    "# %run data_prep.py \"true\" \"data\""
   ]
  },
  {
   "cell_type": "code",
   "execution_count": null,
   "metadata": {},
   "outputs": [],
   "source": [
    "print(os.getcwd())"
   ]
  },
  {
   "cell_type": "markdown",
   "metadata": {},
   "source": []
  },
  {
   "cell_type": "code",
   "execution_count": 1,
   "metadata": {},
   "outputs": [
    {
     "name": "stdout",
     "output_type": "stream",
     "text": [
      "Model information for model 20241205_200737 \n",
      " \n",
      " Log:\n",
      "Using Device:  cuda\n",
      "Model is resnet50 with ImageNET weights trained on VOC dataset\n"
     ]
    },
    {
     "name": "stderr",
     "output_type": "stream",
     "text": [
      "100%|██████████| 2486/2486 [02:07<00:00, 19.53it/s]\n",
      "100%|██████████| 1245/1245 [02:06<00:00,  9.82it/s]\n"
     ]
    },
    {
     "name": "stdout",
     "output_type": "stream",
     "text": [
      "\n",
      "Epoch: 1/5, Train Loss: 0.65213458, Train Accuracy: 87.05487376, Val Loss: 0.47078947, Val Accuracy: 88.83533532\n",
      "Saving the model state dictionary for Epoch: 1 with Validation loss: 0.47078947\n"
     ]
    },
    {
     "name": "stderr",
     "output_type": "stream",
     "text": [
      "100%|██████████| 2486/2486 [01:59<00:00, 20.79it/s]\n",
      "100%|██████████| 1245/1245 [02:01<00:00, 10.25it/s]\n"
     ]
    },
    {
     "name": "stdout",
     "output_type": "stream",
     "text": [
      "\n",
      "Epoch: 2/5, Train Loss: 0.41823347, Train Accuracy: 89.96454079, Val Loss: 0.43719640, Val Accuracy: 89.28844875\n",
      "Saving the model state dictionary for Epoch: 2 with Validation loss: 0.43719640\n"
     ]
    },
    {
     "name": "stderr",
     "output_type": "stream",
     "text": [
      "100%|██████████| 2486/2486 [02:00<00:00, 20.66it/s]\n",
      "100%|██████████| 1245/1245 [02:01<00:00, 10.23it/s]\n"
     ]
    },
    {
     "name": "stdout",
     "output_type": "stream",
     "text": [
      "\n",
      "Epoch: 3/5, Train Loss: 0.37207723, Train Accuracy: 90.74414043, Val Loss: 0.49196411, Val Accuracy: 89.40517880\n"
     ]
    },
    {
     "name": "stderr",
     "output_type": "stream",
     "text": [
      "100%|██████████| 2486/2486 [02:06<00:00, 19.58it/s]\n",
      "100%|██████████| 1245/1245 [02:00<00:00, 10.29it/s]\n"
     ]
    },
    {
     "name": "stdout",
     "output_type": "stream",
     "text": [
      "\n",
      "Epoch: 4/5, Train Loss: 0.34618919, Train Accuracy: 91.15783120, Val Loss: 0.45216390, Val Accuracy: 89.54952241\n"
     ]
    },
    {
     "name": "stderr",
     "output_type": "stream",
     "text": [
      "100%|██████████| 2486/2486 [01:59<00:00, 20.84it/s]\n",
      "100%|██████████| 1245/1245 [02:00<00:00, 10.33it/s]\n",
      "C:\\Users\\jmber\\OneDrive\\Documents\\J Mark Stuff\\AFITstuff\\0 - Courses\\DSOR 752\\Code\\dsor_752_mlops\\berhold_sandbox\\project_presentation\\train_eval.py:212: FutureWarning: You are using `torch.load` with `weights_only=False` (the current default value), which uses the default pickle module implicitly. It is possible to construct malicious pickle data which will execute arbitrary code during unpickling (See https://github.com/pytorch/pytorch/blob/main/SECURITY.md#untrusted-models for more details). In a future release, the default value for `weights_only` will be flipped to `True`. This limits the functions that could be executed during unpickling. Arbitrary objects will no longer be allowed to be loaded via this mode unless they are explicitly allowlisted by the user via `torch.serialization.add_safe_globals`. We recommend you start setting `weights_only=True` for any use case where you don't have full control of the loaded file. Please open an issue on GitHub for any issues related to this experimental feature.\n",
      "  model.load_state_dict(torch.load(os.path.join(model_location, f\"model_{model_name}.pt\")))\n"
     ]
    },
    {
     "name": "stdout",
     "output_type": "stream",
     "text": [
      "\n",
      "Epoch: 5/5, Train Loss: 0.32715194, Train Accuracy: 91.40177045, Val Loss: 0.56274285, Val Accuracy: 89.34242071\n",
      "\n",
      " \n",
      " Evaluating ResNet_20241205_200737 \n",
      " \n",
      " :\n",
      "Using downloaded and verified file: data/voc\\VOCtest_06-Nov-2007.tar\n",
      "Extracting data/voc\\VOCtest_06-Nov-2007.tar to data/voc\n"
     ]
    }
   ],
   "source": [
    "%run berhold_sandbox\\project_presentation\\train_eval.py \"true\" \"data\" \"model\" \"output\" \"\""
   ]
  },
  {
   "cell_type": "code",
   "execution_count": null,
   "metadata": {},
   "outputs": [],
   "source": [
    "%run berhold_sandbox\\project_presentation\\train_eval.py \"true\" \"data\" \"model\" \"output\" \"ResNet_20241205_200737\""
   ]
  },
  {
   "cell_type": "code",
   "execution_count": null,
   "metadata": {},
   "outputs": [
    {
     "name": "stderr",
     "output_type": "stream",
     "text": [
      "C:\\Users\\jmber\\OneDrive\\Documents\\J Mark Stuff\\AFITstuff\\0 - Courses\\DSOR 752\\Code\\dsor_752_mlops\\berhold_sandbox\\project_presentation\\train_eval.py:204: FutureWarning: You are using `torch.load` with `weights_only=False` (the current default value), which uses the default pickle module implicitly. It is possible to construct malicious pickle data which will execute arbitrary code during unpickling (See https://github.com/pytorch/pytorch/blob/main/SECURITY.md#untrusted-models for more details). In a future release, the default value for `weights_only` will be flipped to `True`. This limits the functions that could be executed during unpickling. Arbitrary objects will no longer be allowed to be loaded via this mode unless they are explicitly allowlisted by the user via `torch.serialization.add_safe_globals`. We recommend you start setting `weights_only=True` for any use case where you don't have full control of the loaded file. Please open an issue on GitHub for any issues related to this experimental feature.\n",
      "  \n"
     ]
    }
   ],
   "source": [
    "%run berhold_sandbox\\project_presentation\\train_eval.py \"false\" \"data\" \"model\" \"output\" \"ResNet_20241205_200737\""
   ]
  },
  {
   "cell_type": "code",
   "execution_count": null,
   "metadata": {},
   "outputs": [],
   "source": []
  }
 ],
 "metadata": {
  "kernelspec": {
   "display_name": "pytorch",
   "language": "python",
   "name": "python3"
  },
  "language_info": {
   "codemirror_mode": {
    "name": "ipython",
    "version": 3
   },
   "file_extension": ".py",
   "mimetype": "text/x-python",
   "name": "python",
   "nbconvert_exporter": "python",
   "pygments_lexer": "ipython3",
   "version": "3.12.7"
  }
 },
 "nbformat": 4,
 "nbformat_minor": 2
}
